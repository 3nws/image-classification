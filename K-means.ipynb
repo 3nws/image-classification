{
 "cells": [
  {
   "cell_type": "code",
   "execution_count": 11,
   "metadata": {},
   "outputs": [],
   "source": [
    "from sklearn.cluster import KMeans\n",
    "\n",
    "import numpy as np\n",
    "import scipy.io\n",
    "import matplotlib.pyplot as plt\n",
    "import matplotlib\n",
    "\n",
    "matplotlib.use('Agg')\n",
    "\n",
    "file_path = './datasets/PaviaU.mat'\n",
    "\n",
    "mat = scipy.io.loadmat(file_path)\n",
    "\n",
    "\n",
    "data = mat['paviaU']\n",
    "new_data = data.reshape(610*340, 103)\n",
    "\n",
    "num_of_clusters_list = [7, 9, 11, 15, 17]\n",
    "kmeans_algo = \"elkan\"\n",
    "\n",
    "X = new_data\n",
    "for num_of_clusters in num_of_clusters_list:\n",
    "    kmeans = KMeans(n_clusters=num_of_clusters, init ='k-means++', max_iter=300, n_init=10,random_state=0, algorithm=kmeans_algo)\n",
    "\n",
    "    y_kmeans = kmeans.fit_predict(X)\n",
    "\n",
    "    image = np.array([np.append(n, np.zeros((1))) for n in new_data])\n",
    "\n",
    "    for i in range(len(image)):\n",
    "        image[i][-1] = y_kmeans[i]\n",
    "\n",
    "    image = image.reshape(610, 340, 104)\n",
    "\n",
    "    fig = plt.figure(figsize=(10, 8))\n",
    "    plt.imshow(image[:,:,103], cmap='nipy_spectral')\n",
    "    plt.colorbar()\n",
    "    plt.axis('off')\n",
    "    fig.savefig(f'./images/classified_image_{num_of_clusters}_clusters_{kmeans_algo}.png')"
   ]
  },
  {
   "cell_type": "code",
   "execution_count": 3,
   "metadata": {},
   "outputs": [],
   "source": [
    "distorsions = []\n",
    "for k in range(2, 20):\n",
    "    kmeans = KMeans(n_clusters=k, init ='k-means++', max_iter=300, n_init=10,random_state=0, algorithm=kmeans_algo)\n",
    "    kmeans.fit(X)\n",
    "    distorsions.append(kmeans.inertia_)\n",
    "\n",
    "\n",
    "fig = plt.figure(figsize=(15, 5))\n",
    "plt.plot(range(2, 20), distorsions)\n",
    "plt.grid(True)\n",
    "plt.title('Elbow curve')\n",
    "fig.savefig(f'./images/elbow_curve.png')"
   ]
  },
  {
   "cell_type": "code",
   "execution_count": 10,
   "metadata": {},
   "outputs": [],
   "source": [
    "kmeans = KMeans(n_clusters=12, init ='k-means++', max_iter=300, n_init=10,random_state=0, algorithm=kmeans_algo)\n",
    "\n",
    "y_kmeans = kmeans.fit_predict(X)\n",
    "image = np.array([np.append(n, np.zeros((1))) for n in new_data])\n",
    "for i in range(len(image)):\n",
    "    image[i][-1] = y_kmeans[i]\n",
    "image = image.reshape(610, 340, 104)\n",
    "fig = plt.figure(figsize=(10, 8))\n",
    "plt.imshow(image[:,:,103], cmap='nipy_spectral')\n",
    "plt.colorbar()\n",
    "plt.axis('off')\n",
    "fig.savefig(f'./images/classified_image_12_clusters_{kmeans_algo}.png')"
   ]
  }
 ],
 "metadata": {
  "interpreter": {
   "hash": "f595b24bd0005ade19c9cc9195ebfd43399e9f8b470abdede700a27b5c9ee90b"
  },
  "kernelspec": {
   "display_name": "Python 3.7.0 64-bit",
   "language": "python",
   "name": "python3"
  },
  "language_info": {
   "codemirror_mode": {
    "name": "ipython",
    "version": 3
   },
   "file_extension": ".py",
   "mimetype": "text/x-python",
   "name": "python",
   "nbconvert_exporter": "python",
   "pygments_lexer": "ipython3",
   "version": "3.7.0"
  },
  "orig_nbformat": 4
 },
 "nbformat": 4,
 "nbformat_minor": 2
}
